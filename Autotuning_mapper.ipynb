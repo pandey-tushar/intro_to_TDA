{
 "cells": [
  {
   "cell_type": "code",
   "execution_count": 169,
   "metadata": {},
   "outputs": [],
   "source": [
    "import pandas as pd, numpy as np, matplotlib.pyplot as plt, scanpy as sc\n",
    "from scipy.io import mmread\n",
    "from ripser import ripser, Rips,lower_star_img\n",
    "import persim\n",
    "from persim import plot_diagrams\n",
    "import sklearn\n",
    "from sklearn import datasets\n",
    "import kmapper as km\n",
    "from kmapper import jupyter"
   ]
  },
  {
   "cell_type": "code",
   "execution_count": 2,
   "metadata": {},
   "outputs": [
    {
     "name": "stderr",
     "output_type": "stream",
     "text": [
      "Variable names are not unique. To make them unique, call `.var_names_make_unique`.\n"
     ]
    }
   ],
   "source": [
    "#Was trying this on a particular data set\n",
    "fibroblast=sc.read('data_set.h5ad')\n",
    "color = fibroblast.obs.index\n",
    "data = pd.DataFrame(fibroblast.X)"
   ]
  },
  {
   "cell_type": "code",
   "execution_count": 61,
   "metadata": {},
   "outputs": [],
   "source": [
    "mapper = km.KeplerMapper(verbose=0)\n",
    "#One of the important hyperparameter here is the projection. \n",
    "#This can not be generalized since it highly depends on which dataset we are looking at and what do we want from it.\n",
    "projected_data = mapper.fit_transform(data, projection = sklearn.manifold.TSNE(metric= 'correlation',n_jobs=-1))"
   ]
  },
  {
   "cell_type": "code",
   "execution_count": 165,
   "metadata": {},
   "outputs": [],
   "source": [
    "def unit_vector(vector):\n",
    "    return vector / np.linalg.norm(vector)\n",
    "def angle_between(v1, v2):    \n",
    "    v1_u = unit_vector(v1)\n",
    "    v2_u = unit_vector(v2)\n",
    "    return np.arccos(np.clip(np.dot(v1_u, v2_u), -1.0, 1.0))\n",
    "\n",
    "#Find the cluster number using traditional clustering algorithms.\n",
    "#NOTE: This can be modified if you want to use some other clustering algorithm\n",
    "def clust_number(projected_data):\n",
    "    print('The optimal cluster numbers')\n",
    "    from sklearn.cluster import KMeans\n",
    "    from sklearn.metrics import silhouette_score\n",
    "    #I used both Kmeans and silhoutte_score to get the cluster number.\n",
    "    #I will choose the smaller cluster number for the graph\n",
    "    #and the larger cluster number for the coloring.\n",
    "    wcss = []\n",
    "    for i in range(1, 15):\n",
    "        kmeans = KMeans(n_clusters=i, init='k-means++', max_iter=300, n_init=10, random_state=0)\n",
    "        cluster_labels = kmeans.fit_predict(projected_data)\n",
    "        wcss.append(kmeans.inertia_)\n",
    "    s_score=0\n",
    "    for i in range(2,15):\n",
    "        kmeans = KMeans(n_clusters=i, init='k-means++', max_iter=300, n_init=10, random_state=0)\n",
    "        cluster_labels = kmeans.fit_predict(projected_data)\n",
    "        if silhouette_score(projected_data, cluster_labels)>s_score:\n",
    "            s_score=silhouette_score(projected_data, cluster_labels)\n",
    "            index=i\n",
    "    n_clust=1\n",
    "    temp = angle_between([-1,wcss[0]- wcss[1]],[1,wcss[2]- wcss[1]])\n",
    "    for i in range(2,len(wcss)):        \n",
    "        if (angle_between([-1,wcss[i-2]- wcss[i-1]],[1,wcss[i]- wcss[i-1]])<3*np.pi/4):\n",
    "            if angle_between([-1,wcss[i-2]- wcss[i-1]],[1,wcss[i]- wcss[i-1]])< temp:\n",
    "                n_clust=i-1\n",
    "    print(n_clust,index)\n",
    "    return [n_clust,index]\n",
    "\n",
    "#Get parameters for colors\n",
    "def parameter_color(projected_data):\n",
    "    arr1 = [i/100 for i in range(1,151,2)]\n",
    "    arr2 = [i for i in range(2,16,2)]\n",
    "    b=max(clust_number(projected_data))-1\n",
    "    for n_min_samples in arr2:\n",
    "        for n_eps in arr1:\n",
    "            if b == max(sklearn.cluster.DBSCAN(eps=n_eps,min_samples=n_min_samples,n_jobs=-1).fit(projected_data).labels_):                    \n",
    "                    return n_eps,n_min_samples    \n",
    "    return parameter_clust(projected_data)\n",
    "\n",
    "#Get parameters for clustering the graph\n",
    "def parameter_clust(projected_data):\n",
    "    print('getting DBSCAN parameters')\n",
    "    arr1 = [i/100 for i in range(1,151,2)]\n",
    "    arr2 = [i for i in range(2,21)]\n",
    "    b=min(clust_number(projected_data))-1\n",
    "    for n_min_samples in arr2:\n",
    "        for n_eps in arr1:\n",
    "            if b == max(sklearn.cluster.DBSCAN(eps=n_eps,min_samples=n_min_samples,n_jobs=-1).fit(projected_data).labels_):\n",
    "                print(n_eps,n_min_samples)\n",
    "                return n_eps,n_min_samples\n",
    "    return 0.05,3"
   ]
  },
  {
   "cell_type": "code",
   "execution_count": 67,
   "metadata": {},
   "outputs": [],
   "source": [
    "#DEFINE CLUSTER CUBES:\n",
    "#Gives a coloring to all the cubes based on connectivity and returns a dictionary\n",
    "#All the connected cubes and the number of clusters is returned.\n",
    "def cluster_cubes(graph):\n",
    "    #print('The Cluster Cubes')\n",
    "    link_keys=graph['links'].keys()\n",
    "    node_flag={}\n",
    "    i=0\n",
    "    #iterate over link_keys\n",
    "    for x in link_keys:\n",
    "        temp=graph['links'][x]\n",
    "        if x in node_flag.keys():            \n",
    "            j = node_flag[x]\n",
    "            for ele in temp:\n",
    "                if ele in node_flag.keys():\n",
    "                    j = min(node_flag[ele],j)\n",
    "            for ele in temp:\n",
    "                node_flag.update({ele:j})\n",
    "        else:\n",
    "            j=50\n",
    "            for ele in temp:\n",
    "                if ele in node_flag.keys():\n",
    "                    j = min(node_flag[ele],j)\n",
    "            if j==50:                \n",
    "                node_flag.update({x:i})\n",
    "                for ele in temp:                \n",
    "                    node_flag.update({ele:i})\n",
    "                i+=1\n",
    "            else:\n",
    "                node_flag.update({x:j})\n",
    "                for ele in temp:                \n",
    "                    node_flag.update({ele:j})\n",
    "              \n",
    "    #temporary solution to the ambiguous step  \n",
    "    #a reverse loop to ensure that all the connected components are actually colored the same\n",
    "    l = len(list(link_keys))-1\n",
    "    flag=0\n",
    "    for num in range(l):\n",
    "        x=list(link_keys)[l-num]\n",
    "        temp = graph['links'][x]\n",
    "        intersection=[k for k in temp if k in node_flag.keys()]\n",
    "        if len(intersection)==0:\n",
    "            flag+=1\n",
    "        else:\n",
    "            j = node_flag[intersection[0]]\n",
    "            node_flag.update({x:j})\n",
    "            for ele in temp:\n",
    "                node_flag.update({ele:j})\n",
    "    \n",
    "    sorted_node_flag = sorted(node_flag.items(), key=lambda item:item[1])\n",
    "    number_of_clusters = len(list(set(list(node_flag.values()))))-flag\n",
    "    return dict(sorted_node_flag),number_of_clusters\n",
    "\n",
    "#Function to see output at different resolutions\n",
    "#This is an important function. \n",
    "#We can also use it directly instead of going through all the resolutions in a particular range\n",
    "def network(resolution,data,n_eps,n_min_samples):\n",
    "    print('The network structure')\n",
    "    i= 15\n",
    "    j= 0.3\n",
    "    flag=0\n",
    "    while(i<=50 and j>=0.1):\n",
    "        if abs(1.5*i/j - resolution)<10:            \n",
    "            graph = mapper.map(data,clusterer=sklearn.cluster.DBSCAN(eps=n_eps,\n",
    "                                                                     min_samples=n_min_samples,n_jobs=-1),\n",
    "                               cover=km.Cover(i, j))\n",
    "            if len(graph['nodes'])==0:\n",
    "                continue\n",
    "            else:\n",
    "                return graph\n",
    "        elif (1.5*i/j - resolution)<0:\n",
    "            if flag==0:\n",
    "                i+=2\n",
    "                flag=1\n",
    "            else:\n",
    "                j-=0.02\n",
    "                flag=0\n",
    "        else:\n",
    "            if flag==0:\n",
    "                i-=2\n",
    "                flag=1\n",
    "            else:\n",
    "                j+=0.02\n",
    "                flag=0\n",
    "\n",
    "#Returns the largest node cluster\n",
    "def largest(graph):\n",
    "    print('The largest cluster')\n",
    "    clust_labels = list(cluster_cubes(graph)[0].values())\n",
    "    len_cluster={}\n",
    "    j=0\n",
    "    if len(clust_labels)==0:\n",
    "        return []\n",
    "    if len(clust_labels)==1:\n",
    "        return clust_labels\n",
    "    for i in range(1,len(clust_labels)):\n",
    "        if clust_labels[i-1]!=clust_labels[i]:\n",
    "            len_cluster.update({clust_labels[i-1]:i-j})\n",
    "            j=i\n",
    "    len_cluster.update({clust_labels[i-1]:len(clust_labels)-j})\n",
    "    freq_color = sorted(len_cluster.items(), key = lambda x:x[1], reverse = True)[0][0]\n",
    "    largest_graph =[]\n",
    "    for cube,color in cluster_cubes(graph)[0].items():\n",
    "        if color == freq_color:\n",
    "            largest_graph.append(cube)\n",
    "    return largest_graph\n",
    "\n",
    "#Returns the variance in the valency of the largest cluster/graph\n",
    "def graph_valency(graph):    \n",
    "    val_dict={}\n",
    "    for nodes in largest(graph):\n",
    "        if nodes in val_dict.keys():\n",
    "            val_dict.update({nodes:val_dict[items]+len(graph['links'][nodes])})\n",
    "        else:\n",
    "            val_dict.update({nodes:len(graph['links'][nodes])})\n",
    "        for items in graph['links'][nodes]:\n",
    "            if items in val_dict.keys():\n",
    "                val_dict.update({items:val_dict[items]+1})\n",
    "            else:\n",
    "                val_dict.update({items:1})\n",
    "    val_array=[]\n",
    "    for values in val_dict.items():\n",
    "        val_array.append(values[1])\n",
    "    print('variance and mean of graph',np.var(val_array), np.mean(val_array))\n",
    "    return np.var(val_array),np.mean(val_array)"
   ]
  },
  {
   "cell_type": "markdown",
   "metadata": {},
   "source": [
    "Instead of using the variance and mean just on the largest graph, we can also include the average variance as a parameter.\n",
    "Average mean is not required, since it can vary a lot in different connected components."
   ]
  },
  {
   "cell_type": "code",
   "execution_count": null,
   "metadata": {},
   "outputs": [],
   "source": [
    "#Final graph with two hyper_parameter\n",
    "def final_graph(projected_data,var,mean):\n",
    "    n_eps = parameter_clust(projected_data)[0]\n",
    "    n_min_samples = parameter_clust(projected_data)[1]\n",
    "    #We run the function network with different resolution values and check the variance and the mean in the output graph \n",
    "    for i in range(10,205,5):\n",
    "        print(i)\n",
    "        vm=graph_valency(network(i,projected_data,n_eps, n_min_samples))\n",
    "        if var - vm[0]<0.1 and vm[1]-mean<0.1:\n",
    "            return network(i,projected_data,n_eps,n_min_samples)"
   ]
  },
  {
   "cell_type": "code",
   "execution_count": 125,
   "metadata": {},
   "outputs": [
    {
     "name": "stdout",
     "output_type": "stream",
     "text": [
      "getting DBSCAN parameters\n",
      "The optimal cluster numbers\n",
      "1 3\n",
      "0.17 2\n",
      "getting DBSCAN parameters\n",
      "The optimal cluster numbers\n",
      "1 3\n",
      "0.17 2\n",
      "10\n",
      "The network structure\n",
      "The largest cluster\n",
      "variance and mean of graph 1.5047258979206048 4.130434782608695\n",
      "15\n",
      "The network structure\n",
      "The largest cluster\n",
      "variance and mean of graph 1.5047258979206048 4.130434782608695\n",
      "20\n",
      "The network structure\n",
      "The largest cluster\n",
      "variance and mean of graph 0.9155555555555552 4.466666666666667\n",
      "25\n",
      "The network structure\n",
      "The largest cluster\n",
      "variance and mean of graph 0.9155555555555552 4.466666666666667\n",
      "30\n",
      "The network structure\n",
      "The largest cluster\n",
      "variance and mean of graph 1.2623039480800433 4.395348837209302\n",
      "35\n",
      "The network structure\n",
      "The largest cluster\n",
      "variance and mean of graph 1.2623039480800433 4.395348837209302\n",
      "40\n",
      "The network structure\n",
      "The largest cluster\n",
      "variance and mean of graph 1.1843644198214833 4.385964912280702\n",
      "45\n",
      "The network structure\n",
      "The largest cluster\n",
      "variance and mean of graph 1.3856571252693137 4.350877192982456\n",
      "50\n",
      "The network structure\n",
      "The largest cluster\n",
      "variance and mean of graph 1.3856571252693137 4.350877192982456\n",
      "55\n",
      "The network structure\n",
      "The largest cluster\n",
      "variance and mean of graph 1.4766222222222223 4.173333333333333\n",
      "60\n",
      "The network structure\n",
      "The largest cluster\n",
      "variance and mean of graph 2.5907299680990805 4.109589041095891\n",
      "65\n",
      "The network structure\n",
      "The largest cluster\n",
      "variance and mean of graph 2.5907299680990805 4.109589041095891\n",
      "70\n",
      "The network structure\n",
      "The largest cluster\n",
      "variance and mean of graph 2.441358414341624 3.9101123595505616\n",
      "The network structure\n"
     ]
    },
    {
     "data": {
      "image/png": "[encoded data removed]",
      "text/plain": [
       "<Figure size 640x480 with 1 Axes>"
      ]
     },
     "metadata": {},
     "output_type": "display_data"
    }
   ],
   "source": [
    "#Drawing the graph \n",
    "graph = final_graph(projected_data,2,4)\n",
    "km.draw_matplotlib(graph)\n",
    "plt.show()"
   ]
  },
  {
   "cell_type": "code",
   "execution_count": 126,
   "metadata": {},
   "outputs": [
    {
     "name": "stdout",
     "output_type": "stream",
     "text": [
      "The optimal cluster numbers\n",
      "1 3\n",
      "The optimal cluster numbers\n",
      "1 3\n"
     ]
    },
    {
     "name": "stderr",
     "output_type": "stream",
     "text": [
      "/usr/local/lib/python3.6/site-packages/IPython/core/display.py:701: UserWarning: Consider using IPython.display.IFrame instead\n",
      "  warnings.warn(\"Consider using IPython.display.IFrame instead\")\n"
     ]
    },
    {
     "data": {
      "text/html": [
       "<iframe src=fibr.html width=100%% height=800 frameBorder=\"0\"></iframe>"
      ],
      "text/plain": [
       "<IPython.core.display.HTML object>"
      ]
     },
     "metadata": {},
     "output_type": "display_data"
    }
   ],
   "source": [
    "#Display the html file/graph using mapper\n",
    "mapper.visualize(graph,path_html='fibr.html',custom_tooltips= np.array(color),\n",
    "                color_function=sklearn.cluster.DBSCAN(eps=parameter_color(projected_data)[0], min_samples=parameter_color(projected_data)[1],n_jobs=-1).fit(projected_data).labels_)\n",
    "jupyter.display('fibr.html')"
   ]
  },
  {
   "cell_type": "markdown",
   "metadata": {},
   "source": [
    "One can also check the graph using the funtion network with any particular resolution.\n",
    "This can sometimes be a good approach to certain problems if there are multiple components or if the background of the data set is not known."
   ]
  },
  {
   "cell_type": "code",
   "execution_count": 129,
   "metadata": {},
   "outputs": [
    {
     "name": "stdout",
     "output_type": "stream",
     "text": [
      "getting DBSCAN parameters\n",
      "The optimal cluster numbers\n",
      "1 3\n",
      "0.17 2\n",
      "getting DBSCAN parameters\n",
      "The optimal cluster numbers\n",
      "1 3\n",
      "0.17 2\n",
      "The network structure\n"
     ]
    },
    {
     "data": {
      "image/png": "[encoded data removed]",
      "text/plain": [
       "<Figure size 640x480 with 1 Axes>"
      ]
     },
     "metadata": {},
     "output_type": "display_data"
    }
   ],
   "source": [
    "n_eps = parameter_clust(projected_data)[0]\n",
    "n_min_samples = parameter_clust(projected_data)[1]\n",
    "km.draw_matplotlib(network(35,projected_data,n_eps, n_min_samples))\n",
    "plt.show()"
   ]
  },
  {
   "cell_type": "code",
   "execution_count": null,
   "metadata": {},
   "outputs": [],
   "source": []
  },
  {
   "cell_type": "markdown",
   "metadata": {},
   "source": [
    "Now we will try to find out the path between any two nodes in the given graph.\n"
   ]
  },
  {
   "cell_type": "code",
   "execution_count": null,
   "metadata": {},
   "outputs": [],
   "source": []
  },
  {
   "cell_type": "markdown",
   "metadata": {},
   "source": [
    "This I believe can be very important to give the information, not only about the nodes in the same clusters but also about the shortest path from one node point to another. \n",
    "It can be used in multiple scenarios which may use time series data."
   ]
  },
  {
   "cell_type": "code",
   "execution_count": 116,
   "metadata": {},
   "outputs": [],
   "source": [
    "#DEFINE FUNCTION THAT RETURNS CLUSTERS\n",
    "def clusters(graph):\n",
    "    node_info = graph['nodes'].keys()\n",
    "    data_point_flags={}\n",
    "    cluster = [[] for i in range(cluster_cubes(graph)[1])]\n",
    "    for x in node_info:\n",
    "        node = graph['nodes'][x]\n",
    "        if x in cluster_cubes(graph)[0].keys():\n",
    "            node_color = cluster_cubes(graph)[0][x]\n",
    "            for point in node:\n",
    "                data_point_flags.update({point:node_color})\n",
    "    temp = sorted(data_point_flags.items(), key=lambda item:item[1])\n",
    "    cluster[0].append(temp[0][0])\n",
    "    j=0\n",
    "    for i in range(1,len(temp)):\n",
    "        if temp[i][1]!=temp[i-1][1]:\n",
    "            cluster[j+1].append(temp[i][0])\n",
    "            j+=1\n",
    "        else:\n",
    "            cluster[j].append(temp[i][0])\n",
    "    return cluster\n",
    "\n",
    "def cube_cluster(graph,a,b):\n",
    "    cube_a=''\n",
    "    cube_b=''\n",
    "    for cubes in graph['nodes'].keys():\n",
    "        for items in graph['nodes'][cubes]:\n",
    "            if items == a:\n",
    "                cube_a = cubes\n",
    "            if items == b:\n",
    "                cube_b = cubes\n",
    "            if len(cube_a)>0 and len(cube_b)>0:\n",
    "                break\n",
    "    return cube_a,cube_b\n",
    "\n",
    "from collections import defaultdict\n",
    "\n",
    "class Graph():\n",
    "    def __init__(self):\n",
    "        self.edges = defaultdict(list)\n",
    "        self.weights = {}\n",
    "    \n",
    "    def add_edge(self, from_node, to_node, weight):\n",
    "        # Note: assumes edges are bi-directional\n",
    "        self.edges[from_node].append(to_node)\n",
    "        self.edges[to_node].append(from_node)\n",
    "        self.weights[(from_node, to_node)] = weight\n",
    "        self.weights[(to_node, from_node)] = weight\n",
    "\n",
    "#Shortest path algorithm\n",
    "def dijsktra(graph, initial, end):\n",
    "    # shortest paths is a dict of nodes\n",
    "    # whose value is a tuple of (previous node, weight)\n",
    "    shortest_paths = {initial: (None, 0)}\n",
    "    current_node = initial\n",
    "    visited = set()\n",
    "    \n",
    "    while current_node != end:\n",
    "        visited.add(current_node)\n",
    "        destinations = graph.edges[current_node]\n",
    "        weight_to_current_node = shortest_paths[current_node][1]\n",
    "\n",
    "        for next_node in destinations:\n",
    "            weight = graph.weights[(current_node, next_node)] + weight_to_current_node\n",
    "            if next_node not in shortest_paths:\n",
    "                shortest_paths[next_node] = (current_node, weight)\n",
    "            else:\n",
    "                current_shortest_weight = shortest_paths[next_node][1]\n",
    "                if current_shortest_weight > weight:\n",
    "                    shortest_paths[next_node] = (current_node, weight)\n",
    "        \n",
    "        next_destinations = {node: shortest_paths[node] for node in shortest_paths if node not in visited}\n",
    "        if not next_destinations:\n",
    "            return []\n",
    "        # next node is the destination with the lowest weight\n",
    "        current_node = min(next_destinations, key=lambda k: next_destinations[k][1])\n",
    "    \n",
    "    # Work back through destinations in shortest path\n",
    "    path = []\n",
    "    while current_node is not None:\n",
    "        path.append(current_node)\n",
    "        next_node = shortest_paths[current_node][0]\n",
    "        current_node = next_node\n",
    "    # Reverse path\n",
    "    path = path[::-1]\n",
    "    return path\n",
    "\n",
    "def graph_construct(graph):\n",
    "    g = Graph()\n",
    "    edges=[]\n",
    "    for nodes in graph['links'].keys():\n",
    "        for cubes in graph['links'][nodes]:\n",
    "            edges.append((cubes,nodes,1))\n",
    "    for edge in edges:\n",
    "        g.add_edge(*edge)\n",
    "    return g\n",
    "\n",
    "def print_path(graph,cell_1,cell_2):\n",
    "    path = dijsktra(graph_construct(graph),cube_cluster(graph,cell_1, cell_2)[0],cube_cluster(graph,cell_1, cell_2)[1])\n",
    "    dist = len(path)\n",
    "    if dist==0:\n",
    "        return 'Route not possible'\n",
    "    if dist>2:\n",
    "        for i in range(1,dist-1):\n",
    "            print (sorted(list(color[graph['nodes'][path[i]]])))\n",
    "    else:\n",
    "        print('they are connected')"
   ]
  },
  {
   "cell_type": "code",
   "execution_count": 130,
   "metadata": {},
   "outputs": [
    {
     "name": "stdout",
     "output_type": "stream",
     "text": [
      "['M1_C04', 'M2_H05', 'M3_A05', 'M3_A09', 'M3_F03']\n",
      "['M1_A05', 'M1_A10', 'M1_B02', 'M1_H05', 'M3_A09', 'M3_B10']\n",
      "['M1_A10', 'M1_D03', 'M1_H05', 'M2_E02', 'M2_E03', 'M3_E08']\n",
      "['M2_A08', 'M2_C09', 'M2_D07', 'M2_E11', 'M2_H09', 'M3_D11', 'M3_E04', 'M3_E08', 'M3_H04']\n",
      "['M2_C06', 'M2_D07', 'M2_G04', 'M2_H02', 'M3_A04', 'M3_C10', 'M3_D02', 'M3_E05', 'M3_E11']\n",
      "['M2_D05', 'M2_D11', 'M2_H02', 'M2_H06', 'M3_D02', 'M3_D10', 'M3_E05', 'M3_E11', 'M3_H03']\n"
     ]
    }
   ],
   "source": [
    "print_path(graph,4,218)"
   ]
  },
  {
   "cell_type": "code",
   "execution_count": null,
   "metadata": {},
   "outputs": [],
   "source": []
  },
  {
   "cell_type": "markdown",
   "metadata": {},
   "source": [
    "An example to show how mapper works for a small 2-dimensional image.\n",
    "A picture of hand with a very simple and fast function shows us that there are five different clusters in the picture, depicting the five fingers."
   ]
  },
  {
   "cell_type": "code",
   "execution_count": null,
   "metadata": {},
   "outputs": [],
   "source": [
    "import PIL\n",
    "from scipy import ndimage\n",
    "hand_original = plt.imread(\"hand.jpg\")\n",
    "hand_grey = np.asarray(PIL.Image.fromarray(hand_original).convert('L'))\n",
    "smoothed = ndimage.uniform_filter(hand_grey.astype(np.float64), size=5)\n",
    "projected_hand = mapper.fit_transform(smoothed)\n",
    "graph2 = final_graph(projected_hand,0.5,4)\n",
    "km.draw_matplotlib(graph2)\n",
    "plt.show()"
   ]
  },
  {
   "cell_type": "code",
   "execution_count": 160,
   "metadata": {},
   "outputs": [
    {
     "name": "stderr",
     "output_type": "stream",
     "text": [
      "/usr/local/lib/python3.6/site-packages/IPython/core/display.py:701: UserWarning: Consider using IPython.display.IFrame instead\n",
      "  warnings.warn(\"Consider using IPython.display.IFrame instead\")\n"
     ]
    },
    {
     "data": {
      "text/html": [
       "<iframe src=hand.html width=100%% height=800 frameBorder=\"0\"></iframe>"
      ],
      "text/plain": [
       "<IPython.core.display.HTML object>"
      ]
     },
     "metadata": {},
     "output_type": "display_data"
    }
   ],
   "source": [
    "mapper.visualize(graph2,path_html='hand.html')\n",
    "jupyter.display('hand.html')"
   ]
  },
  {
   "cell_type": "code",
   "execution_count": null,
   "metadata": {},
   "outputs": [],
   "source": []
  },
  {
   "cell_type": "code",
   "execution_count": null,
   "metadata": {},
   "outputs": [],
   "source": []
  },
  {
   "cell_type": "code",
   "execution_count": null,
   "metadata": {},
   "outputs": [],
   "source": []
  },
  {
   "cell_type": "code",
   "execution_count": null,
   "metadata": {},
   "outputs": [],
   "source": []
  },
  {
   "cell_type": "code",
   "execution_count": null,
   "metadata": {},
   "outputs": [],
   "source": []
  },
  {
   "cell_type": "code",
   "execution_count": null,
   "metadata": {},
   "outputs": [],
   "source": []
  }
 ],
 "metadata": {
  "kernelspec": {
   "display_name": "Python 3",
   "language": "python",
   "name": "python3"
  },
  "language_info": {
   "codemirror_mode": {
    "name": "ipython",
    "version": 3
   },
   "file_extension": ".py",
   "mimetype": "text/x-python",
   "name": "python",
   "nbconvert_exporter": "python",
   "pygments_lexer": "ipython3",
   "version": "3.6.8"
  }
 },
 "nbformat": 4,
 "nbformat_minor": 4
}
